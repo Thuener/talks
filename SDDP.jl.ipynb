{
 "cells": [
  {
   "cell_type": "markdown",
   "metadata": {
    "slideshow": {
     "slide_type": "slide"
    }
   },
   "source": [
    "# Why a SDDP framework is a big deal?\n",
    "\n",
    "## Alternatives\n",
    "- FAST (Finally An SDDP Toolbox)\n",
    "- StochDynamicProgramming.jl\n",
    "- StructDualDynProg.jl\n",
    "\n",
    "\n",
    "## Why SDDP.jl (Oscar Dowson)\n",
    "- Easy to use\n",
    "- Easy to extend\n",
    "- Many features \n",
    "\n",
    "[The original Oscar Downson's presentation](https://github.com/odow/talks/blob/master/sddp_jl.ipynb)"
   ]
  },
  {
   "cell_type": "markdown",
   "metadata": {
    "slideshow": {
     "slide_type": "slide"
    }
   },
   "source": [
    "# SDDP.jl - A Flexible SDDP Library\n",
    "\n",
    "+ Multistage stochastic linear program in discrete time\n",
    "+ RHS uncertainty (scenarios)\n",
    "+ Markov uncertainty \n",
    "+ Risk neutral or risk averse"
   ]
  },
  {
   "cell_type": "markdown",
   "metadata": {
    "slideshow": {
     "slide_type": "slide"
    }
   },
   "source": [
    "# What are we talking about\n",
    "\n",
    "A stage has six things\n",
    "\n",
    "![Stage Problem](https://odow.github.io/talks/assets/stage.png \"Stage Problem\")\n",
    "\n",
    "1. An incoming state $x_{t-1}$\n",
    "2. An outgoing state $x_t$\n",
    "3. Uncertainty that is realised at the beginning of the state $\\omega_t$\n",
    "4. An action that is taken $u_t$\n",
    "5. Some dynamics $x_t = f_t(x_{t-1}, u_t, \\omega_t)$\n",
    "6. A reward that is earned $c_t(x_{t-1}, x_t, u_t)$"
   ]
  },
  {
   "cell_type": "markdown",
   "metadata": {
    "slideshow": {
     "slide_type": "subslide"
    }
   },
   "source": [
    "$$\n",
    "\\begin{array}{r l r}\n",
    "    SP_t(\\bar{x}_{t-1}, \\omega_t):\\quad\\quad \\min\\limits_{u_t}  & c_t(x_{t-1}, x_t, u_t) + \\theta_{t+1}              \\\\\n",
    "\\text{s.t.}\\quad  x_{t-1}     & = \\bar{x}_{t-1} && [\\pi_t(\\omega_t)]\\\\\n",
    "      x_t         & = f_t(x_{t-1}, u_t)           \\\\\n",
    "      u_t         & \\in U_t(x_{t-1}, \\omega_t)\n",
    "\\end{array}\n",
    "$$\n",
    "\n",
    "$SP_t$ is a user defined JuMP model."
   ]
  },
  {
   "cell_type": "markdown",
   "metadata": {
    "slideshow": {
     "slide_type": "subslide"
    }
   },
   "source": [
    "### Where this might differ\n",
    "\n",
    "- If I record 6 different states (initial, + five more), there are five stages, not six;\n",
    "- Wait-and-See in a stage. You take an action today after realising the uncertainty(hazard-decision);\n",
    "- Each stage is set-up as a linear programme.\n",
    "\n",
    "We call the linear programme that defines a stage a *subproblem*."
   ]
  },
  {
   "cell_type": "markdown",
   "metadata": {
    "slideshow": {
     "slide_type": "skip"
    }
   },
   "source": [
    "# What are we talking about...\n",
    "\n",
    "Let us consider a stochastic linear program with $T$ stages, denoted $t=1,2,\\dots,T$. We shall also consider the markov process $W_t$, $t=1,2,\\dots,T$, with transition matrices $P^{(t)}$. We shall denote the realisations of $W_t$ by the integers $i=1,2,\\dots,S_t$. $P^{(t)}$ has size $S_t \\times S_{t+1}$.\n",
    "\n",
    "In each stage and markov state of our stochastic linear program, there is a random right-hand-side vector $b_t(\\omega_{ti})\\in \\mathbb{R}^m$ with a finite number of realisations defined by $\\omega_{ti} \\in \\Omega_{ti}$ supported with probability $\\phi_{ti}$.\n",
    "\n",
    "If we assume that we begin in markov state $I$ in stage 1, in terms of the realisation of $\\omega_{1I} \\in \\Omega_{1I}$, the first stage problem can be written as\n",
    "\n",
    "$$\n",
    "\\begin{array}{r c c l r}\n",
    "z(\\omega_{1I}) & = & \\text{min} & c_1^\\top x_1 + \\sum\\limits_{j=1}^{S_{t+1}} P^{(t)}_{Ij}\\mathbb{E}\\left[Q_{2,j}(x_1, \\omega_{2,j}) | W_{2} = j\\right]&\\\\\n",
    "&&\\text{s.t.}& A_1x_{1} = b_1(\\omega_{1I})&\\\\\n",
    "&&&x_1 \\ge 0.\n",
    "\\end{array}\n",
    "$$\n",
    "\n",
    "where $x_1\\in \\mathbb{R}^n$ is the first stage decision, $c_1 \\in \\mathbb{R}^n$ is a cost vector, $A_1$ is a $m\\times n$ matrix and $b_1\\in \\mathbb{R}^m$. The expected cost of the stochastic linear program is therefore $\\mathbb{E}[z(\\omega_{1I})]$."
   ]
  },
  {
   "cell_type": "markdown",
   "metadata": {
    "slideshow": {
     "slide_type": "skip"
    }
   },
   "source": [
    "## Subsequent stages\n",
    "\n",
    "We denote $Q_{ti}(x_{t-1}, \\omega_{ti})$ as the future costs associated with decision $x_{t-1}$ and realisation $\\omega_{ti} \\in \\Omega_{ti}$. This can be solved as\n",
    "\n",
    "$$\n",
    "\\begin{array}{r c c l r}\n",
    "Q_{ti}(x_{t-1}, \\omega_{ti}) & = & \\text{min} & c_t^\\top x_t + \\sum\\limits_{j=1}^{S_{t+1}} P^{(t)}_{ij}\\mathbb{E}\\left[Q_{t+1,j}(x_t, \\omega_{t+1,j}) | W_{t+1} = j\\right]&\\\\\n",
    "&&\\text{s.t.}& A_tx_{t} = b_t(\\omega_{ti}) - E_tx_{t-1}& [\\pi_{t}(\\omega_{ti})]\\\\\n",
    "&&&x_t \\ge 0.\n",
    "\\end{array}\n",
    "$$\n",
    "where $x_t\\in \\mathbb{R}^n$ is the decision in stage $t$, $c_t \\in \\mathbb{R}^n$ its cost, $A_t$ and $E_t$ denote $m\\times n$ matrices. $\\pi_{ti}(\\omega_{ti})$ are the dual variables of the constraints. In the last stage, we assume that $\\mathbb{E}[Q_{T+1,i}(x_T, \\omega_{T+1,i})]=0$."
   ]
  },
  {
   "cell_type": "code",
   "execution_count": 1,
   "metadata": {
    "collapsed": false,
    "slideshow": {
     "slide_type": "slide"
    }
   },
   "outputs": [],
   "source": [
    "# To get started we need to clone SDDP.jl\n",
    "Pkg.clone(\"https://github.com/odow/SDDP.jl\")\n",
    "\n",
    "# load some packages\n",
    "using SDDP, JuMP, Clp"
   ]
  },
  {
   "cell_type": "markdown",
   "metadata": {
    "slideshow": {
     "slide_type": "slide"
    }
   },
   "source": [
    "# The stock example\n",
    "\n",
    "Links to [StochDynamicPrograming.jl](https://github.com/JuliaOpt/StochDynamicProgramming.jl/blob/master/examples/stock-example.jl) and [SDDP.jl](https://github.com/odow/SDDP.jl/blob/master/examples/StochDynamicProgramming.jl/stock-example.jl) versions.\n",
    "\n",
    "1. Sense:  Minimising\n",
    "2. Stages: 5 stages ($t = 1,2,3,4,5$)\n",
    "3. States: 1 State $x_t \\in [0, 1]$ (initial state $x_0 = 0.5$)\n",
    "4. Controls: 1 control $u_t \\in [0, 0.5]$\n",
    "5. Noises: 10 stagewise independent noises: $\\omega_t \\in [0, 0.0333..., 0.0666..., ..., 0.3]$ \n",
    "6. Dynamics: linear dynamics $x_t == x_{t-1} + u_t - \\omega_t $\n",
    "7. Stage Objective: linear objective $(\\sin(3t) - 1) \\cdot u_t$"
   ]
  },
  {
   "cell_type": "markdown",
   "metadata": {
    "slideshow": {
     "slide_type": "subslide"
    }
   },
   "source": [
    "\n",
    "$$\n",
    "\\begin{array}{r l}\n",
    "\\min\\limits_{u_t} & (sin(3t) - 1)u_t + \\theta_{t+1}\\\\\n",
    "s.t. & x_t = x_{t-1} + u_t - \\omega_t \\\\\n",
    "& x_t \\in [0, 1] \\\\\n",
    "& u_t \\in [0, 0.5] \\\\\n",
    "& x_0 = 0.5\n",
    "\\end{array}\n",
    "$$"
   ]
  },
  {
   "cell_type": "markdown",
   "metadata": {
    "slideshow": {
     "slide_type": "slide"
    }
   },
   "source": [
    "# Syntax for creating a new SDDPModel\n",
    "We define 1. and 2. in the constructor using keyword arguments.\n",
    "```julia\n",
    "m = SDDPModel(\n",
    " sense = :Min,      # :Max or :Min?\n",
    " stages = 5,        # Number of stages\n",
    " solver = ClpSolver(),\n",
    " risk_measure = Expectation(),\n",
    " objective_bound = -2# Valid lower bound\n",
    " ) do sp, t                               \n",
    "   # ) do subproblem_jump_model, stage_index\n",
    "   # the first is a new JuMP Model for the subproblem, the second is an index from 1,2,...,5\n",
    "                                \n",
    " # ... subproblem definition goes here ...\n",
    "    \n",
    "end\n",
    "```"
   ]
  },
  {
   "cell_type": "markdown",
   "metadata": {
    "slideshow": {
     "slide_type": "slide"
    }
   },
   "source": [
    "# Defining the subproblem\n",
    "\n",
    "We still need to define the last five things:\n",
    "\n",
    "    3. States\n",
    "    4. Controls\n",
    "    5. Noises\n",
    "    6. Dynamics\n",
    "    7. Objective\n",
    "\n",
    "We're going to use both `sp` and `t` from above."
   ]
  },
  {
   "cell_type": "markdown",
   "metadata": {
    "slideshow": {
     "slide_type": "slide"
    }
   },
   "source": [
    "# 3. Defining a state\n",
    "\n",
    "A stage has an incoming, and an outgoing state variable. Behind the scenes we'll take care of matching them up between stages.\n",
    "\n",
    "To define a new state variable use the `@state` macro.\n",
    "```julia\n",
    "@state(sp, lb <= outgoing <= ub, incoming == initial value)\n",
    "```\n",
    "\n",
    "First argument is the subproblem variable from the constructor, second argument is the outgoing variable (any feasible JuMP variable definition), third argument is the incoming variable (`symbol == initial value`).\n",
    "\n"
   ]
  },
  {
   "cell_type": "markdown",
   "metadata": {
    "slideshow": {
     "slide_type": "subslide"
    }
   },
   "source": [
    "From above, we have one state $x_t\\in[0,1],\\quad x_0 = 0.5$\n",
    "```julia\n",
    "@state(sp, 0 <= x <= 1, x0 == 0.5)\n",
    "```\n",
    "The `x0` is the incoming variable in each stage. It will only be forced to `0.5` in the first stage. The syntax is just for convinence."
   ]
  },
  {
   "cell_type": "markdown",
   "metadata": {
    "slideshow": {
     "slide_type": "subslide"
    }
   },
   "source": [
    "We could also create three state variables\n",
    "$x^i_t \\in [0, \\infty),\\quad x^i_0 = i, \\quad i=\\{1,2,3\\}\\quad t=\\{1,2,\\dots,T\\}$\n",
    "```julia\n",
    "@state(sp, x[i=1:3] >= 0, x0==i)\n",
    "```\n",
    "or do fancier things like\n",
    "```julia\n",
    "RESERVOIRS = [:taupo, :benmore]\n",
    "INITIAL_STORAGE = Dict(:taupo => 1, :benmore => 2)\n",
    "\n",
    "@state(sp, x[r=RESERVOIRS] >= 0, x0==INITIAL_STORAGE[r])\n",
    "```\n"
   ]
  },
  {
   "cell_type": "markdown",
   "metadata": {
    "slideshow": {
     "slide_type": "slide"
    }
   },
   "source": [
    "# 4. Defining a control\n",
    "\n",
    "Controls are just JuMP variables. Nothing special.\n",
    "\n",
    "From above $u_t \\in [0, 0.5]$\n",
    "```julia\n",
    "@variable(sp, 0 <= control <= 0.5)\n",
    "```"
   ]
  },
  {
   "cell_type": "markdown",
   "metadata": {
    "slideshow": {
     "slide_type": "slide"
    }
   },
   "source": [
    "# 5. Defining a Noise\n",
    "\n",
    "Still a little messy. Not overly happy with it...\n",
    "\n",
    "A noise has three things:\n",
    "\n",
    "1. A constraint\n",
    "2. A set of RHS values\n",
    "3. A probability distribution\n",
    "\n",
    "Julia code is\n",
    "```julia\n",
    "@noise(sp, name = RHS Values, constraint)\n",
    "\n",
    "setnoiseprobability!(sp, probability distribution)\n",
    "```"
   ]
  },
  {
   "cell_type": "markdown",
   "metadata": {
    "slideshow": {
     "slide_type": "subslide"
    }
   },
   "source": [
    "### From above we have\n",
    "\n",
    "5 - Noises\n",
    "+ 10 stagewise independent noises: $\\omega_t \\in [0, 0.0333..., 0.0666..., ..., 0.3]$ \n",
    "\n",
    "6 - Dynamics\n",
    "+ linear dynamics $x_t == x_{t-1} + u_t - \\omega_t $\n",
    "    \n",
    "\n",
    "```julia\n",
    "@noise(sp, omega = linspace(0, 0.3, 10), x == x0 + u - omega)\n",
    "\n",
    "# set uniform probability (but its the default so you don't have to\n",
    "setnoiseprobability!(sp, fill(0.1, 10))\n",
    "```"
   ]
  },
  {
   "cell_type": "markdown",
   "metadata": {
    "slideshow": {
     "slide_type": "slide"
    }
   },
   "source": [
    "# 6. Defining dynamics\n",
    "\n",
    "These can just be any JuMP constraints\n",
    "\n",
    "```julia\n",
    "@constraint(sp, x + u <= 1.5)\n",
    "```"
   ]
  },
  {
   "cell_type": "markdown",
   "metadata": {
    "slideshow": {
     "slide_type": "slide"
    }
   },
   "source": [
    "# 7. Defining the Stage Objective\n",
    "\n",
    "We only care about defining the stage objective. The future costs get handled automatically.\n",
    "\n",
    "```julia\n",
    "stageobjective!(sp, AffExpr of Objective)\n",
    "```\n",
    "\n",
    "We can use the index `t` to change coefficients between subproblems so our objective is\n",
    "```julia\n",
    "stageobjective!(sp, (sin(3 * t) - 1) * u)\n",
    "```"
   ]
  },
  {
   "cell_type": "code",
   "execution_count": 2,
   "metadata": {
    "collapsed": false,
    "scrolled": true,
    "slideshow": {
     "slide_type": "slide"
    }
   },
   "outputs": [
    {
     "data": {
      "text/plain": [
       "SDDP.SDDPModel{SDDP.DefaultValueFunction{SDDP.DefaultCutOracle}}(:Min, SDDP.Stage[SDDP.Stage(1, JuMP.Model[Minimization problem with:\n",
       " * 2 linear constraints\n",
       " * 4 variables\n",
       "Solver is ClpMathProg], [1.0], Float64[], Dict{Any,Any}()), SDDP.Stage(2, JuMP.Model[Minimization problem with:\n",
       " * 2 linear constraints\n",
       " * 4 variables\n",
       "Solver is ClpMathProg], [1.0], Float64[], Dict{Any,Any}()), SDDP.Stage(3, JuMP.Model[Minimization problem with:\n",
       " * 2 linear constraints\n",
       " * 4 variables\n",
       "Solver is ClpMathProg], [1.0], Float64[], Dict{Any,Any}()), SDDP.Stage(4, JuMP.Model[Minimization problem with:\n",
       " * 2 linear constraints\n",
       " * 4 variables\n",
       "Solver is ClpMathProg], [1.0], Float64[], Dict{Any,Any}()), SDDP.Stage(5, JuMP.Model[Minimization problem with:\n",
       " * 2 linear constraints\n",
       " * 4 variables\n",
       "Solver is ClpMathProg], [1.0], Float64[], Dict{Any,Any}())], SDDP.Storage(Float64[], Int64[], Int64[], Array{Float64,1}[], Float64[], Float64[], Float64[]), SDDP.SolutionLog[], #1, Clp.ClpMathProgSolverInterface.ClpSolver(Any[]), Dict{Any,Any}())"
      ]
     },
     "execution_count": 2,
     "metadata": {},
     "output_type": "execute_result"
    }
   ],
   "source": [
    "m = SDDPModel(\n",
    "                  sense = :Min,          \n",
    "                 stages = 5,             \n",
    "                 solver = ClpSolver(),   \n",
    "           risk_measure = Expectation(), \n",
    "        objective_bound = -2             \n",
    "                                        ) do sp, t\n",
    "    \n",
    "    # the state\n",
    "    @state(sp, 0 <= x <= 1, x0 == 0.5)\n",
    "    \n",
    "    # the control\n",
    "    @variable(sp, 0 <= u <= 0.5)\n",
    "    \n",
    "    # the noise (and dynamics)\n",
    "    @noise(sp, omega = linspace(0, 0.3, 10), x == x0 + u - omega)\n",
    "    \n",
    "    # the objective\n",
    "    stageobjective!(sp, (sin(3 * t) - 1) * u)\n",
    "    \n",
    "end"
   ]
  },
  {
   "cell_type": "markdown",
   "metadata": {
    "slideshow": {
     "slide_type": "subslide"
    }
   },
   "source": [
    "### Compare the Julia code to the mathematical subproblem\n",
    "$\n",
    "\\begin{array}{r l}\n",
    "\\min\\limits_{u_t} & (sin(3t) - 1)u_t + \\theta_{t+1}\\\\\n",
    "s.t. & x_t = x_{t-1} + u_t - \\omega_t \\\\\n",
    "& x_t \\in [0, 1] \\\\\n",
    "& u_t \\in [0, 0.5] \\\\\n",
    "& x_0 = 0.5\n",
    "\\end{array}\n",
    "$"
   ]
  },
  {
   "cell_type": "markdown",
   "metadata": {
    "slideshow": {
     "slide_type": "subslide"
    }
   },
   "source": [
    "```julia\n",
    "m = SDDPModel(\n",
    "                  sense = :Min,          \n",
    "                 stages = 5,             \n",
    "                 solver = ClpSolver(),   \n",
    "           risk_measure = Expectation(), \n",
    "        objective_bound = -2             \n",
    "                                        ) do sp, t\n",
    "    @state(sp,    0 <= x <= 1, x0 == 0.5)    \n",
    "    @variable(sp, 0 <= u <= 0.5)\n",
    "    @noise(sp, omega = linspace(0, 0.3, 10), x == x0 + u - omega)\n",
    "    stageobjective!(sp, (sin(3t) - 1)*u ) \n",
    "end\n",
    "```\n"
   ]
  },
  {
   "cell_type": "markdown",
   "metadata": {
    "slideshow": {
     "slide_type": "slide"
    }
   },
   "source": [
    "# Solve options\n",
    "\n",
    "For a full list run `julia>? SDDP.solve`\n",
    "\n",
    "```julia\n",
    "status = solve(m,\n",
    "    max_iterations = 10,\n",
    "    time_limit     = 600, \n",
    "    simulation     = MonteCarloSimulation(\n",
    "                        frequency = 5,\n",
    "                        min       = 10,\n",
    "                        step      = 10,\n",
    "                        max       = 100,\n",
    "                        terminate = false\n",
    "                    )\n",
    ")\n",
    "```"
   ]
  },
  {
   "cell_type": "code",
   "execution_count": 3,
   "metadata": {
    "collapsed": false,
    "slideshow": {
     "slide_type": "slide"
    }
   },
   "outputs": [
    {
     "name": "stderr",
     "output_type": "stream",
     "text": [
      "\u001b[1m\u001b[33mWARNING: \u001b[39m\u001b[22m\u001b[33mSolver does not appear to support providing initial feasible solutions.\u001b[39m\n"
     ]
    },
    {
     "name": "stdout",
     "output_type": "stream",
     "text": [
      "Final bound is -1.471483864147188 (Expected -1.471).\n"
     ]
    }
   ],
   "source": [
    "srand(1111)\n",
    "status = solve(m,\n",
    "    max_iterations = 20,\n",
    "    time_limit     = 600, \n",
    "    simulation     = MonteCarloSimulation(\n",
    "                        frequency = 5,   # Number of forwards to construct the statistical bound\n",
    "                        min       = 10,  # Min number of forwards to evaluate confidence interval for the bound\n",
    "                        step      = 10,   \n",
    "                        max       = 100,\n",
    "                        confidence = 0.95\n",
    "                    ),\n",
    "     print_level=0\n",
    ")\n",
    "\n",
    "# MonteCarloSimulation(frequency,steps,confidence,termination)\n",
    "# MonteCarloSimulation(frequency,collect(min:step:max),confidence,termination)\n",
    "\n",
    "\n",
    "# Check bound is correct\n",
    "println(\"Final bound is $(SDDP.getbound(m)) (Expected -1.471).\")"
   ]
  },
  {
   "cell_type": "markdown",
   "metadata": {
    "slideshow": {
     "slide_type": "subslide"
    }
   },
   "source": [
    "    -------------------------------------------------------------------------------\n",
    "                          SDDP Solver. © Oscar Dowson, 2017.\n",
    "    -------------------------------------------------------------------------------\n",
    "        Solver:\n",
    "            Serial solver\n",
    "        Model:\n",
    "            Stages:         5\n",
    "            States:         1\n",
    "            Subproblems:    5\n",
    "            Value Function: Default\n",
    "    -------------------------------------------------------------------------------\n",
    "                  Objective              |  Cut  Passes    Simulations   Total    \n",
    "          Expected        Bound   % Gap  |   #     Time     #    Time    Time     \n",
    "    -------------------------------------------------------------------------------\n",
    "           -1.591         -1.471         |     1    0.0      0    0.0    0.0 \n",
    "           -1.365         -1.471         |     2    0.0      0    0.0    0.0 \n",
    "           -1.518         -1.471         |     3    0.0      0    0.0    0.0 \n",
    "           -1.624         -1.471         |     4    0.0      0    0.0    0.0 \n",
    "      -1.569    -1.479    -1.471   -6.7  |     5    0.0     20    0.0    0.1 \n",
    "           -1.537         -1.471         |     6    0.0     20    0.0    0.1 \n",
    "           -1.387         -1.471         |     7    0.1     20    0.0    0.1 \n",
    "           -1.403         -1.471         |     8    0.1     20    0.0    0.1 \n",
    "           -1.567         -1.471         |     9    0.1     20    0.0    0.1 \n",
    "      -1.491    -1.424    -1.471   -1.4  |    10    0.1    120    0.1    0.2 \n",
    "           -1.347         -1.471         |    11    0.1    120    0.1    0.2 \n",
    "           -1.456         -1.471         |    12    0.1    120    0.1    0.2 \n",
    "           -1.525         -1.471         |    13    0.1    120    0.1    0.2 \n",
    "           -1.801         -1.471         |    14    0.1    120    0.1    0.2 \n",
    "      -1.524    -1.453    -1.471   -3.6  |    15    0.1    220    0.2    0.3 \n",
    "           -1.746         -1.471         |    16    0.1    220    0.2    0.3 \n",
    "           -1.276         -1.471         |    17    0.1    220    0.2    0.3 \n",
    "           -1.285         -1.471         |    18    0.1    220    0.2    0.3 \n",
    "           -1.236         -1.471         |    19    0.1    220    0.2    0.3 \n",
    "      -1.505    -1.435    -1.471   -2.3  |    20    0.2    320    0.2    0.4 \n",
    "    -------------------------------------------------------------------------------\n",
    "        Statistics:\n",
    "            Iterations:         20\n",
    "            Termination Status: max_iterations\n",
    "    -------------------------------------------------------------------------------\n",
    "    Final bound is -1.4710749176074305 (Expected -1.471)."
   ]
  },
  {
   "cell_type": "code",
   "execution_count": null,
   "metadata": {
    "collapsed": false,
    "slideshow": {
     "slide_type": "slide"
    }
   },
   "outputs": [],
   "source": [
    "simulation = simulate(m, 1000, [:x, :u])\n",
    "println(\"Mean of simulation objectives is $(mean(r[:objective] for r in simulation))\")"
   ]
  },
  {
   "cell_type": "code",
   "execution_count": null,
   "metadata": {
    "collapsed": true,
    "slideshow": {
     "slide_type": "slide"
    }
   },
   "outputs": [],
   "source": [
    "@visualise(simulation, i, t, begin\n",
    "    simulation[i][:x][t], (title=\"State\")\n",
    "    simulation[i][:u][t], (title=\"Control\")\n",
    "    simulation[i][:scenario][t], (title=\"Scenario\")\n",
    "    simulation[i][:stageobjective][t], (title=\"Objective\", cumulative=true)\n",
    "end)"
   ]
  },
  {
   "cell_type": "markdown",
   "metadata": {
    "slideshow": {
     "slide_type": "subslide"
    }
   },
   "source": [
    "[Open Visualisation](https://odow.github.io/talks/assets/stock-example-visualisation.html)"
   ]
  },
  {
   "cell_type": "markdown",
   "metadata": {
    "slideshow": {
     "slide_type": "slide"
    }
   },
   "source": [
    "# Example: Simplified Hydrothermal Dispatch\n",
    "\n",
    "- Assume two thermoelectrics plants and one hydroelectric plant with reservoir and unit productivity coefficient.\n",
    "- The first thermoelectric with cost 100 and the second with 1000 (R\\$/ MWh) and capacities equal to 50 MW each.\n",
    "- The hydroelectric plant has a reservoir with a capacity equivalent to 150 MWh that starts with a power of 150 MW.\n",
    "- We want to minimize the cost of generating the next 3 hours.\n",
    "- Demand is constant and equal to 150 MWh in all hours."
   ]
  },
  {
   "cell_type": "markdown",
   "metadata": {
    "slideshow": {
     "slide_type": "subslide"
    }
   },
   "source": [
    "# Notation\n",
    "\n",
    "- $ g_{i, t}$ - thermoelectric generation\n",
    "- $u_t$ - turbine\n",
    "- $ v_t $ - reservoir volume\n",
    "- $ a_t $ - affluence\n",
    "- $ s_t $ - spillway\n"
   ]
  },
  {
   "cell_type": "markdown",
   "metadata": {
    "slideshow": {
     "slide_type": "subslide"
    }
   },
   "source": [
    "## Subproblem\n",
    "$FCF(v_{t-1}) =$\n",
    "\\begin{array}{r l}\n",
    " \\min\\limits_{g,s,u,s \\geq 0} & 100 g_{1,t} + 1000 g_{2,t}\\\\\n",
    "s.t. & g_{1,t} + g_{2,t} + u_t  = 150 \\\\\n",
    "& v_t + u_t + s_t = v_{t-1} + a_t \\\\\n",
    "& 0 \\leq v_t \\leq 200 \\\\\n",
    "& 0 \\leq u_t \\leq 150 \\\\\n",
    "& 0 \\leq g_{1,t} \\leq 50 \\\\\n",
    "& 0 \\leq g_{2,t} \\leq 50 \\\\\n",
    "\\end{array}\n"
   ]
  },
  {
   "cell_type": "code",
   "execution_count": null,
   "metadata": {
    "collapsed": false,
    "slideshow": {
     "slide_type": "notes"
    }
   },
   "outputs": [],
   "source": [
    "# load some packages\n",
    "using SDDP, JuMP, Clp\n",
    "\n",
    "m = SDDPModel(\n",
    "                  sense = :Min,          \n",
    "                 stages = 3,\n",
    "                 solver = ClpSolver(), \n",
    "        objective_bound = 0             \n",
    "                                        ) do sp, t\n",
    "    # State\n",
    "    @state(sp,    0 <= v <= 200, v0 == 50)\n",
    "    \n",
    "    # Variables\n",
    "    @variable(sp, 0 <= g[1:2] <= 100)\n",
    "    @variable(sp, 0 <= v <= 200)\n",
    "    @variable(sp, 0 <= u <= 150)\n",
    "    @variable(sp, s >= 0 )\n",
    "    \n",
    "    # Noise\n",
    "    @noise(sp, a = linspace(50, 0, 10), v + u + s == v0 + a)\n",
    "    \n",
    "    # Constraints\n",
    "    @constraint(sp, g[1] + g[2] + u == 150)\n",
    "    \n",
    "    # Objective function \n",
    "    stageobjective!(sp, 100*g[1] + 1000*g[2] ) \n",
    "end"
   ]
  },
  {
   "cell_type": "code",
   "execution_count": null,
   "metadata": {
    "collapsed": false,
    "slideshow": {
     "slide_type": "notes"
    }
   },
   "outputs": [],
   "source": [
    "srand(1111)\n",
    "status = solve(m,\n",
    "    max_iterations = 20,\n",
    "    time_limit     = 600, \n",
    "    simulation     = MonteCarloSimulation(\n",
    "                        frequency = 5,\n",
    "                        min       = 10,\n",
    "                        step      = 10,\n",
    "                        max       = 100,\n",
    "                        termination = false\n",
    "                    ),\n",
    "     print_level=0\n",
    ")"
   ]
  },
  {
   "cell_type": "code",
   "execution_count": null,
   "metadata": {
    "collapsed": true,
    "slideshow": {
     "slide_type": "notes"
    }
   },
   "outputs": [],
   "source": [
    "# Simulation\n",
    "simulation = simulate(m, 1000, [:g, :u])\n",
    "println(\"Mean of simulation objectives is $(mean(r[:objective] for r in simulation))\")"
   ]
  },
  {
   "cell_type": "markdown",
   "metadata": {
    "slideshow": {
     "slide_type": "slide"
    }
   },
   "source": [
    "# Average Value at Risk\n",
    "\n",
    "```julia\n",
    "risk_measure = NestedAVaR(lambda = 0.5, beta = 0.5)\n",
    "```\n",
    "\n",
    "A risk measure that is a convex combination of Expectation and Average Value @ Risk\n",
    "(also called Conditional Value @ Risk).\n",
    "\n",
    "    lambda * E[x] + (1 - lambda) * AV@R(1-beta)[x]\n",
    "\n",
    "### Keyword Arguments\n",
    "\n",
    " * `lambda` - Convex weight on the expectation (`(1-lambda)` weight is put on the AV@R component. Inreasing values of `lambda` are less risk averse (more weight on expecattion)\n",
    "\n",
    " * `beta` - The quantile at which to calculate the Average Value @ Risk. Increasing values\n",
    " of `beta` are less risk averse. If `beta=0`, then the AV@R component is the\n",
    " worst case risk measure.\n",
    "\n"
   ]
  },
  {
   "cell_type": "code",
   "execution_count": null,
   "metadata": {
    "collapsed": false,
    "slideshow": {
     "slide_type": "subslide"
    }
   },
   "outputs": [],
   "source": [
    "m_risk = SDDPModel(\n",
    "                  sense = :Min,          \n",
    "                 stages = 5,             \n",
    "                 solver = ClpSolver(),\n",
    "           # risk_measure = Expectation(), \n",
    "           risk_measure = NestedAVaR(lambda=0.5, beta=0.5), \n",
    "        objective_bound = -2             \n",
    "                                        ) do sp, t\n",
    "    \n",
    "    # the state\n",
    "    @state(sp, 0 <= x <= 1, x0 == 0.5)\n",
    "    \n",
    "    # the control\n",
    "    @variable(sp, 0 <= u <= 0.5)\n",
    "    \n",
    "    # the noise (and dynamics)\n",
    "    @noise(sp, omega = linspace(0, 0.3, 10), x == x0 + u - omega)\n",
    "    \n",
    "    # the objective\n",
    "    stageobjective!(sp, (sin(3 * t) - 1) * u)\n",
    "    \n",
    "end\n",
    "println(typeof(m_risk))"
   ]
  },
  {
   "cell_type": "code",
   "execution_count": null,
   "metadata": {
    "collapsed": false,
    "slideshow": {
     "slide_type": "subslide"
    }
   },
   "outputs": [],
   "source": [
    "srand(1111)\n",
    "status = solve(m_risk,\n",
    "    max_iterations = 20,\n",
    "    time_limit     = 600, \n",
    "    simulation     = MonteCarloSimulation(\n",
    "                        frequency = 5,\n",
    "                        min       = 10,\n",
    "                        step      = 10,\n",
    "                        max       = 100,\n",
    "                        termination = false\n",
    "                    ),\n",
    "    print_level=0\n",
    ")\n",
    "\n",
    "# Check bound is correct\n",
    "println(\"Final bound is $(SDDP.getbound(m_risk)) (Expectation bound was -1.471).\")"
   ]
  },
  {
   "cell_type": "markdown",
   "metadata": {
    "slideshow": {
     "slide_type": "slide"
    }
   },
   "source": [
    "# De Matos (Level One) Cut Selection\n",
    "\n",
    "```julia\n",
    "m_risk = SDDPModel(\n",
    "                  sense = :Min,          \n",
    "                 stages = 5,             \n",
    "                 solver = ClpSolver(),\n",
    "           risk_measure = Expectation(), \n",
    "        objective_bound = -2,\n",
    "        cut_oracle      = DematosCutOracle()\n",
    "                                        ) do sp, t\n",
    "\n",
    "```"
   ]
  },
  {
   "cell_type": "markdown",
   "metadata": {
    "slideshow": {
     "slide_type": "slide"
    }
   },
   "source": [
    "# Asyncronous Solver\n",
    "\n",
    "We parallelise by farming out a new instance of the SDDPModel to all slave processors. \n",
    "\n",
    "Slaves perform iterations independently, and asyncronously share cuts between themselves.\n",
    "\n",
    "```julia\n",
    "solve(m,\n",
    "    solve_type = Serial()\n",
    "    # or\n",
    "    solve_type = Asyncronous()\n",
    ")\n",
    "```"
   ]
  },
  {
   "cell_type": "markdown",
   "metadata": {
    "slideshow": {
     "slide_type": "slide"
    }
   },
   "source": [
    "# Markov Uncertainty\n",
    "\n",
    "More like a feed-forward graph with discrete stages but arbitrary number of nodes and transitions\n",
    "\n",
    "![Markov Chain](https://odow.github.io/talks/assets/graph.png)"
   ]
  },
  {
   "cell_type": "markdown",
   "metadata": {
    "slideshow": {
     "slide_type": "subslide"
    }
   },
   "source": [
    "![Markov Chain](https://odow.github.io/talks/assets/graph2.png)\n",
    "\n",
    "```julia\n",
    "# Transition[last index, current_index] = probability\n",
    "Transition = Array{Float64, 2}[\n",
    "    [1.0],\n",
    "    [0.5 0.5],\n",
    "    [0.25 0.75; 0.75 0.25],\n",
    "    [0.25 0.75; 0.75 0.25],\n",
    "    [0.25 0.75; 0.75 0.25]\n",
    "]\n",
    "```"
   ]
  },
  {
   "cell_type": "code",
   "execution_count": 4,
   "metadata": {
    "collapsed": false,
    "slideshow": {
     "slide_type": "subslide"
    }
   },
   "outputs": [
    {
     "name": "stdout",
     "output_type": "stream",
     "text": [
      "SDDP.SDDPModel{SDDP.DefaultValueFunction{SDDP.DefaultCutOracle}}\n"
     ]
    }
   ],
   "source": [
    "Transition = Array{Float64, 2}[\n",
    "    [1.0]',\n",
    "    [0.5 0.5],\n",
    "    [0.25 0.75; 0.75 0.25],\n",
    "    [0.25 0.75; 0.75 0.25],\n",
    "    [0.25 0.75; 0.75 0.25]\n",
    "]\n",
    "\n",
    "m_markov = SDDPModel(\n",
    "                  sense = :Min,          \n",
    "                 stages = 5,             \n",
    "                 solver = ClpSolver(),\n",
    "        objective_bound = -10,\n",
    "        # A vector of transition matrices. One for each stage\n",
    "      markov_transition = Transition\n",
    "                                        # markov_state will go from 1, 2, ..., S\n",
    "                                        ) do sp, t, markov_state\n",
    "    @state(sp, 0 <= x <= 1, x0 == 0.5)\n",
    "    @variable(sp, 0 <= u <= 0.5)\n",
    "    @noise(sp, omega = linspace(0, 0.3, 10), x == x0 + u - omega)\n",
    "\n",
    "    # the objective\n",
    "    stageobjective!(sp, (sin(3 * t) - 0.75 * markov_state) * u)\n",
    "\n",
    "end\n",
    "println(typeof(m_markov))"
   ]
  },
  {
   "cell_type": "code",
   "execution_count": 5,
   "metadata": {
    "collapsed": false,
    "slideshow": {
     "slide_type": "subslide"
    }
   },
   "outputs": [
    {
     "name": "stdout",
     "output_type": "stream",
     "text": [
      "Final bound is -1.634417972667261.\n"
     ]
    }
   ],
   "source": [
    "status = solve(m_markov,\n",
    "    max_iterations = 10,\n",
    "    print_level=0\n",
    ")\n",
    "\n",
    "# Check bound is correct\n",
    "println(\"Final bound is $(SDDP.getbound(m_markov)).\")"
   ]
  }
 ],
 "metadata": {
  "celltoolbar": "Slideshow",
  "kernelspec": {
   "display_name": "Julia 0.6.0",
   "language": "julia",
   "name": "julia-0.6"
  },
  "language_info": {
   "file_extension": ".jl",
   "mimetype": "application/julia",
   "name": "julia",
   "version": "0.6.0"
  }
 },
 "nbformat": 4,
 "nbformat_minor": 1
}
